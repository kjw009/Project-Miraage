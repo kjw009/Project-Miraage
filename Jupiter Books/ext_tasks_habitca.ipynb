{
 "cells": [
  {
   "cell_type": "code",
   "execution_count": 34,
   "metadata": {},
   "outputs": [],
   "source": [
    "import os\n",
    "import sys\n",
    "import csv\n",
    "import pandas as pd"
   ]
  },
  {
   "cell_type": "code",
   "execution_count": null,
   "metadata": {},
   "outputs": [
    {
     "name": "stdout",
     "output_type": "stream",
     "text": [
      "               Task Name                               Task ID Task Type  \\\n",
      "0   Crictical Hit!/Miss   733afa97-fc70-4a8b-b781-a4e3e7646ff1     habit   \n",
      "1   Crictical Hit!/Miss   733afa97-fc70-4a8b-b781-a4e3e7646ff1     habit   \n",
      "2   Crictical Hit!/Miss   733afa97-fc70-4a8b-b781-a4e3e7646ff1     habit   \n",
      "3   Crictical Hit!/Miss   733afa97-fc70-4a8b-b781-a4e3e7646ff1     habit   \n",
      "4   Crictical Hit!/Miss   733afa97-fc70-4a8b-b781-a4e3e7646ff1     habit   \n",
      "5   Crictical Hit!/Miss   733afa97-fc70-4a8b-b781-a4e3e7646ff1     habit   \n",
      "6   Crictical Hit!/Miss   733afa97-fc70-4a8b-b781-a4e3e7646ff1     habit   \n",
      "7   Crictical Hit!/Miss   733afa97-fc70-4a8b-b781-a4e3e7646ff1     habit   \n",
      "8   Crictical Hit!/Miss   733afa97-fc70-4a8b-b781-a4e3e7646ff1     habit   \n",
      "9   Crictical Hit!/Miss   733afa97-fc70-4a8b-b781-a4e3e7646ff1     habit   \n",
      "10  Crictical Hit!/Miss   733afa97-fc70-4a8b-b781-a4e3e7646ff1     habit   \n",
      "11  Crictical Hit!/Miss   733afa97-fc70-4a8b-b781-a4e3e7646ff1     habit   \n",
      "12  Crictical Hit!/Miss   733afa97-fc70-4a8b-b781-a4e3e7646ff1     habit   \n",
      "13  Crictical Hit!/Miss   733afa97-fc70-4a8b-b781-a4e3e7646ff1     habit   \n",
      "14  Crictical Hit!/Miss   733afa97-fc70-4a8b-b781-a4e3e7646ff1     habit   \n",
      "15  Crictical Hit!/Miss   733afa97-fc70-4a8b-b781-a4e3e7646ff1     habit   \n",
      "16  Crictical Hit!/Miss   733afa97-fc70-4a8b-b781-a4e3e7646ff1     habit   \n",
      "17  Crictical Hit!/Miss   733afa97-fc70-4a8b-b781-a4e3e7646ff1     habit   \n",
      "18  Crictical Hit!/Miss   733afa97-fc70-4a8b-b781-a4e3e7646ff1     habit   \n",
      "19  Crictical Hit!/Miss   733afa97-fc70-4a8b-b781-a4e3e7646ff1     habit   \n",
      "\n",
      "                   Date         Value  \n",
      "0   2020-10-07 11:12:48 -8.636359e+00  \n",
      "1   2021-01-02 15:55:49 -2.083379e+01  \n",
      "2   2022-01-04 13:42:39  7.284681e+00  \n",
      "3   2023-08-16 09:26:43  1.000000e+00  \n",
      "4   2023-08-17 10:29:08  4.255940e-07  \n",
      "5   2023-08-18 10:11:54  1.000000e+00  \n",
      "6   2023-08-19 09:23:54  2.925357e+00  \n",
      "7   2023-08-20 10:09:36  1.974701e+00  \n",
      "8   2023-08-21 10:18:36  2.925357e+00  \n",
      "9   2023-08-23 11:43:45  3.853134e+00  \n",
      "10  2023-08-24 09:36:27  4.759113e+00  \n",
      "11  2023-08-25 10:56:59  3.853134e+00  \n",
      "12  2023-08-26 12:51:25  4.759114e+00  \n",
      "13  2023-08-27 10:26:40  5.644302e+00  \n",
      "14  2023-08-28 11:30:53  4.759124e+00  \n",
      "15  2023-08-29 12:21:39  3.853145e+00  \n",
      "16  2023-08-30 12:32:08  4.759124e+00  \n",
      "17  2023-08-31 08:40:50  3.853145e+00  \n",
      "18  2023-09-01 15:40:34  4.759125e+00  \n",
      "19  2023-09-03 11:56:27  3.853146e+00  \n"
     ]
    }
   ],
   "source": [
    "file_path = 'habitica-tasks-history.csv'\n",
    "df_raw = pd.read_csv(file_path)\n",
    "print(df_raw.head(20))"
   ]
  },
  {
   "cell_type": "code",
   "execution_count": 36,
   "metadata": {},
   "outputs": [
    {
     "data": {
      "text/plain": [
       "Index(['Task Name', 'Task ID', 'Task Type', 'Date', 'Value'], dtype='object')"
      ]
     },
     "execution_count": 36,
     "metadata": {},
     "output_type": "execute_result"
    }
   ],
   "source": [
    "df_raw.columns"
   ]
  },
  {
   "cell_type": "code",
   "execution_count": 37,
   "metadata": {},
   "outputs": [
    {
     "name": "stdout",
     "output_type": "stream",
     "text": [
      "<class 'pandas.core.frame.DataFrame'>\n",
      "RangeIndex: 624 entries, 0 to 623\n",
      "Data columns (total 5 columns):\n",
      " #   Column     Non-Null Count  Dtype  \n",
      "---  ------     --------------  -----  \n",
      " 0   Task Name  624 non-null    object \n",
      " 1   Task ID    624 non-null    object \n",
      " 2   Task Type  624 non-null    object \n",
      " 3   Date       624 non-null    object \n",
      " 4   Value      624 non-null    float64\n",
      "dtypes: float64(1), object(4)\n",
      "memory usage: 24.5+ KB\n"
     ]
    }
   ],
   "source": [
    "df_raw.info()"
   ]
  },
  {
   "cell_type": "code",
   "execution_count": 38,
   "metadata": {},
   "outputs": [
    {
     "name": "stdout",
     "output_type": "stream",
     "text": [
      "                                             Task Name  \\\n",
      "0                                 Crictical Hit!/Miss    \n",
      "58                                  Polish those Fangs   \n",
      "108  ![alt text](https://previews.dropbox.com/p/thu...   \n",
      "160                                        Power Down    \n",
      "212                                 Pore over the Map    \n",
      "\n",
      "                                  Task ID Task Type                 Date  \\\n",
      "0    733afa97-fc70-4a8b-b781-a4e3e7646ff1     habit  2020-10-07 11:12:48   \n",
      "58   0edab546-789a-419d-be67-05ce430cb729     daily  2020-10-06 20:08:44   \n",
      "108  91d31e30-490e-4755-9704-77d55f547a77     daily  2020-10-06 20:10:34   \n",
      "160  49b9a31c-e8b1-41b0-95b9-428de51710d8     daily  2020-10-06 21:32:27   \n",
      "212  d7995563-4274-489c-9662-b513c754e44b     daily  2020-10-06 20:08:57   \n",
      "\n",
      "         Value  \n",
      "0    -8.636359  \n",
      "58   27.403862  \n",
      "108  17.250066  \n",
      "160  25.121790  \n",
      "212  24.966815  \n"
     ]
    }
   ],
   "source": [
    "df_tasks = df_raw.drop_duplicates(subset=['Task Name'], keep='first')\n",
    "print(df_tasks.head(5))"
   ]
  },
  {
   "cell_type": "code",
   "execution_count": 39,
   "metadata": {},
   "outputs": [
    {
     "data": {
      "text/plain": [
       "array(['Crictical Hit!/Miss ', 'Polish those Fangs',\n",
       "       '![alt text](https://previews.dropbox.com/p/thumb/ACGIihQxaU2lpKGybF7ccAfgU0gAGAHcEIzFc3EF0SFARbWGxpbUrZciWHULH2HEDlb6xCIeis3cOt_31W1K8L9qy_EYsfdOrmKvT56aX6GJJimoWvHXfWIZDR59dUil9gzRhMN1ND6IBPSTS_7Y7Kx8hl8h0sbS77DeoDBLGBwPI-2tM8KBf8GyODn9_yEvJxbGf8TY-GVP88D8b6e5QLgg1CQjZmO0zaOg2SrU7vNG-cuw16qgxSM-B-aj4cunYphaWenn-JPwcCvu8jCeIVM7RDuCriglYt31hJjfrg7NRV5_P12Z_1nqjZRsWJ5Bj1jX33wmZpsntd5G7I2lPF5A/p.png) Training Grounds',\n",
       "       'Power Down ', 'Pore over the Map ', 'Dispose of that!',\n",
       "       'Make offerings to Charybdis', 'Perfect Run / Take Fall Damage ',\n",
       "       'Complete 2 Quests ', \"Indulge with Oor'eviled The Temptation \",\n",
       "       'Increase Precision for 25 minutes ', 'Cleanse in the Lazarus Pit',\n",
       "       'Apply War Paint', 'Drink Power Potion', 'Skipping ',\n",
       "       'Partake of Pinguid Provende', 'Train with Prof James May'],\n",
       "      dtype=object)"
      ]
     },
     "execution_count": 39,
     "metadata": {},
     "output_type": "execute_result"
    }
   ],
   "source": [
    "df_tasks['Task Name'].unique()"
   ]
  },
  {
   "cell_type": "code",
   "execution_count": 40,
   "metadata": {},
   "outputs": [
    {
     "data": {
      "text/plain": [
       "Index(['Task Name', 'Task ID', 'Task Type', 'Date', 'Value'], dtype='object')"
      ]
     },
     "execution_count": 40,
     "metadata": {},
     "output_type": "execute_result"
    }
   ],
   "source": [
    "df_tasks.columns"
   ]
  },
  {
   "cell_type": "code",
   "execution_count": 41,
   "metadata": {},
   "outputs": [
    {
     "name": "stdout",
     "output_type": "stream",
     "text": [
      "                                            Task Name\n",
      "0                                Crictical Hit!/Miss \n",
      "1                                  Polish those Fangs\n",
      "2   ![alt text](https://previews.dropbox.com/p/thu...\n",
      "3                                         Power Down \n",
      "4                                  Pore over the Map \n",
      "5                                    Dispose of that!\n",
      "6                         Make offerings to Charybdis\n",
      "7                     Perfect Run / Take Fall Damage \n",
      "8                                  Complete 2 Quests \n",
      "9             Indulge with Oor'eviled The Temptation \n",
      "10                 Increase Precision for 25 minutes \n",
      "11                         Cleanse in the Lazarus Pit\n",
      "12                                    Apply War Paint\n",
      "13                                 Drink Power Potion\n",
      "14                                          Skipping \n",
      "15                        Partake of Pinguid Provende\n",
      "16                          Train with Prof James May\n"
     ]
    }
   ],
   "source": [
    "df_tasks = df_tasks.loc[:, ['Task Name']].reset_index(drop=True)\n",
    "print(df_tasks)"
   ]
  },
  {
   "cell_type": "code",
   "execution_count": 42,
   "metadata": {},
   "outputs": [],
   "source": [
    "df_tasks['duration'] = 0"
   ]
  },
  {
   "cell_type": "code",
   "execution_count": 43,
   "metadata": {},
   "outputs": [],
   "source": [
    "df_tasks.to_csv('tasks.csv', index=False)"
   ]
  }
 ],
 "metadata": {
  "kernelspec": {
   "display_name": "Python 3",
   "language": "python",
   "name": "python3"
  },
  "language_info": {
   "codemirror_mode": {
    "name": "ipython",
    "version": 3
   },
   "file_extension": ".py",
   "mimetype": "text/x-python",
   "name": "python",
   "nbconvert_exporter": "python",
   "pygments_lexer": "ipython3",
   "version": "3.12.1"
  }
 },
 "nbformat": 4,
 "nbformat_minor": 2
}
