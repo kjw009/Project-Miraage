{
 "cells": [
  {
   "cell_type": "code",
   "execution_count": 5,
   "metadata": {},
   "outputs": [],
   "source": [
    "from datetime import datetime, timedelta  # Import datetime for handling dates and times\n",
    "from googleapiclient.discovery import build  # Import build for creating API service objects\n"
   ]
  },
  {
   "cell_type": "code",
   "execution_count": null,
   "metadata": {},
   "outputs": [
    {
     "ename": "NameError",
     "evalue": "name 'Grayfia' is not defined",
     "output_type": "error",
     "traceback": [
      "\u001b[1;31m---------------------------------------------------------------------------\u001b[0m",
      "\u001b[1;31mNameError\u001b[0m                                 Traceback (most recent call last)",
      "Cell \u001b[1;32mIn[1], line 1\u001b[0m\n\u001b[1;32m----> 1\u001b[0m grayfia \u001b[38;5;241m=\u001b[39m \u001b[43mGrayfia\u001b[49m()\n",
      "\u001b[1;31mNameError\u001b[0m: name 'Grayfia' is not defined"
     ]
    }
   ],
   "source": [
    "def get_events(self, calendar_id='primary', time_min=None, time_max=None):\n",
    "    \"\"\"\n",
    "    Retrieves events from a Google Calendar within a specified time range, \n",
    "    with time_max defaulting to the end of the current week.\n",
    "\n",
    "    Args:\n",
    "        self: The instance of the class (e.g., Grayfia) calling this method.\n",
    "        calendar_id (str, optional): The ID of the calendar to retrieve events from. \n",
    "                                    Defaults to 'primary' (the user's default calendar).\n",
    "        time_min (str, optional): The minimum start time for events to retrieve, \n",
    "                                in ISO 8601 format (e.g., '2023-10-27T10:00:00Z'). \n",
    "                                If None, defaults to the current UTC time.\n",
    "        time_max (str, optional): The maximum start time for events to retrieve, \n",
    "                                in ISO 8601 format. If None, defaults to the end \n",
    "                                of the current week (Sunday).\n",
    "\n",
    "    Returns:\n",
    "        list: A list of event dictionaries. Each dictionary represents a calendar event \n",
    "            and contains information like 'summary', 'start', 'end', etc. \n",
    "            Returns an empty list if no events are found or if an error occurs.\n",
    "    \"\"\"\n",
    "    try:\n",
    "        service = build('calendar', 'v3', credentials=self.creds)  # Construct the Calendar API service object using the class's credentials\n",
    "\n",
    "        now = datetime.utcnow()  # Get the current UTC time as a datetime object\n",
    "        if not time_min:\n",
    "            time_min = now.isoformat() + 'Z'  # If no time_min is provided, set it to the current UTC time in ISO 8601 format ('Z' denotes UTC)\n",
    "        if not time_max:\n",
    "            days_until_sunday = (6 - now.weekday()) % 7  # Calculate how many days until the next Sunday (0=Monday, 6=Sunday)\n",
    "            end_of_week = now + timedelta(days=days_until_sunday, hours=23, minutes=59, seconds=59)  # Calculate the datetime for the end of the week (Sunday 23:59:59)\n",
    "            time_max = end_of_week.isoformat() + 'Z'  # Format the end of the week datetime to ISO 8601 format\n",
    "\n",
    "        events = service.events().list(  # Call the Calendar API to get the list of events\n",
    "            calendarId=calendar_id,  # Specify the calendar ID\n",
    "            timeMin=time_min,  # Specify the minimum start time\n",
    "            timeMax=time_max,  # Specify the maximum start time\n",
    "            singleEvents=True,  # Return recurring events as single instances\n",
    "            orderBy='startTime'  # Order the events by their start time\n",
    "        ).execute()  # Execute the API request\n",
    "\n",
    "        events = events.get('items', [])  # Extract the list of events from the API response; use .get() to handle cases where 'items' is not present (e.g., empty response)\n",
    "\n",
    "        if not events:\n",
    "            print('No upcoming events found.')  # If the events list is empty, print a message\n",
    "            return []  # and return an empty list\n",
    "\n",
    "        return events  # Return the list of events\n",
    "\n",
    "    except Exception as e:\n",
    "        print(e)  # Print any exception that occurs during the API call or processing\n",
    "        return []  # Return an empty list to indicate an error occurred"
   ]
  }
 ],
 "metadata": {
  "kernelspec": {
   "display_name": "Python 3",
   "language": "python",
   "name": "python3"
  },
  "language_info": {
   "codemirror_mode": {
    "name": "ipython",
    "version": 3
   },
   "file_extension": ".py",
   "mimetype": "text/x-python",
   "name": "python",
   "nbconvert_exporter": "python",
   "pygments_lexer": "ipython3",
   "version": "3.12.1"
  }
 },
 "nbformat": 4,
 "nbformat_minor": 2
}
