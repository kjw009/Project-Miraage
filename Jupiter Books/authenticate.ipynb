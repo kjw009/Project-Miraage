{
 "cells": [
  {
   "cell_type": "code",
   "execution_count": 1,
   "metadata": {},
   "outputs": [],
   "source": [
    "# File Sharing \n",
    "import os\n",
    "\n",
    "# Google Client \n",
    "from google.auth.transport.requests import Request\n",
    "from google.oauth2.credentials import Credentials\n",
    "from google_auth_oauthlib.flow import InstalledAppFlow\n",
    "from googleapiclient.discovery import build"
   ]
  },
  {
   "cell_type": "code",
   "execution_count": null,
   "metadata": {},
   "outputs": [],
   "source": [
    "SCOPES = ['https://www.googleapis.com/auth/calendar.readonly', 'https://www.googleapis.com/auth/tasks.readonly']  # Scopes for app"
   ]
  },
  {
   "cell_type": "code",
   "execution_count": null,
   "metadata": {},
   "outputs": [],
   "source": [
    "def authenticate():\n",
    "    creds = None  # Initialize credentials variable\n",
    "\n",
    "    if os.path.exists('token.json'):\n",
    "        \"\"\"\n",
    "        Authenticates the user and obtains Google API credentials.\n",
    "\n",
    "        This function checks for existing credentials in 'token.json'. If they exist and are valid,\n",
    "        it loads them. If not, it initiates the OAuth 2.0 authorization flow to obtain new\n",
    "        credentials. It also handles refreshing expired credentials.\n",
    "\n",
    "        Returns:\n",
    "            Credentials: An object containing the user's authentication credentials, or None if authentication fails.\n",
    "        \"\"\"\n",
    "        # If a token.json file exists, load credentials from it\n",
    "        creds = Credentials.from_authorized_user_file('token.json', SCOPES)\n",
    "\n",
    "    if not creds or not creds.valid:\n",
    "        # If credentials don't exist or are invalid, get new credentials\n",
    "        if creds and creds.expired and creds.refresh_token:\n",
    "            # If credentials exist but are expired, refresh them\n",
    "            creds.refresh(Request())\n",
    "        else:\n",
    "            # If no valid credentials, run the OAuth 2.0 flow to get new credentials\n",
    "            flow = InstalledAppFlow.from_client_secrets_file('credentials.json', SCOPES) #credentials.json contains your client id, and client secret\n",
    "            creds = flow.run_local_server(port=8000) #Starts a local web server to handle the authentication redirect.\n",
    "        # Save the credentials to token.json for future use\n",
    "        with open('token.json', 'w') as token:\n",
    "            token.write(creds.to_json())"
   ]
  }
 ],
 "metadata": {
  "kernelspec": {
   "display_name": "Python 3",
   "language": "python",
   "name": "python3"
  },
  "language_info": {
   "codemirror_mode": {
    "name": "ipython",
    "version": 3
   },
   "file_extension": ".py",
   "mimetype": "text/x-python",
   "name": "python",
   "nbconvert_exporter": "python",
   "pygments_lexer": "ipython3",
   "version": "3.12.1"
  }
 },
 "nbformat": 4,
 "nbformat_minor": 2
}
